{
 "cells": [
  {
   "cell_type": "code",
   "execution_count": 5,
   "metadata": {
    "collapsed": false
   },
   "outputs": [
    {
     "data": {
      "text/plain": [
       "['README.md', 'avengers.csv']"
      ]
     },
     "execution_count": 5,
     "metadata": {},
     "output_type": "execute_result"
    }
   ],
   "source": [
    "import os\n",
    "os.getcwd()\n",
    "os.chdir('/home/abc/workspace/machinelearning/data/avengers')\n",
    "os.getcwd()\n",
    "os.listdir()"
   ]
  },
  {
   "cell_type": "code",
   "execution_count": 12,
   "metadata": {
    "collapsed": false
   },
   "outputs": [
    {
     "data": {
      "text/plain": [
       "<matplotlib.axes._subplots.AxesSubplot at 0x7fc6c15e5128>"
      ]
     },
     "execution_count": 12,
     "metadata": {},
     "output_type": "execute_result"
    },
    {
     "data": {
      "image/png": "[encoded data removed]",
      "text/plain": [
       "<matplotlib.figure.Figure at 0x7fc6c81acf98>"
      ]
     },
     "metadata": {},
     "output_type": "display_data"
    }
   ],
   "source": [
    "import pandas as pd\n",
    "avengers = pd.read_csv('avengers.csv', encoding='latin1')\n",
    "\n",
    "#Print shape: number of columns, number of rows\n",
    "avengers.shape\n",
    "#Print all labels\n",
    "avengers.columns.values\n",
    "\n",
    "#Plot year columns\n",
    "import matplotlib.pyplot as plt\n",
    "%matplotlib inline\n",
    "avengers['Year'].hist()"
   ]
  },
  {
   "cell_type": "code",
   "execution_count": 76,
   "metadata": {
    "collapsed": false
   },
   "outputs": [
    {
     "data": {
      "text/plain": [
       "<matplotlib.axes._subplots.AxesSubplot at 0x7fc6bee20c18>"
      ]
     },
     "execution_count": 76,
     "metadata": {},
     "output_type": "execute_result"
    },
    {
     "data": {
      "image/png": "[encoded data removed]",
      "text/plain": [
       "<matplotlib.figure.Figure at 0x7fc6bed75940>"
      ]
     },
     "metadata": {},
     "output_type": "display_data"
    }
   ],
   "source": [
    "#Because avenger heroes only appear since 1960, so we will remove rows have Year < 1960\n",
    "true_avengers = avengers[avengers['Year']>=1960]\n",
    "true_avengers['Year'].hist()"
   ]
  },
  {
   "cell_type": "code",
   "execution_count": 79,
   "metadata": {
    "collapsed": false
   },
   "outputs": [
    {
     "data": {
      "text/plain": [
       "<matplotlib.axes._subplots.AxesSubplot at 0x7fc6bed2a278>"
      ]
     },
     "execution_count": 79,
     "metadata": {},
     "output_type": "execute_result"
    },
    {
     "data": {
      "image/png": "[encoded data removed]",
      "text/plain": [
       "<matplotlib.figure.Figure at 0x7fc6bed829b0>"
      ]
     },
     "metadata": {},
     "output_type": "display_data"
    }
   ],
   "source": [
    "def count_death(row):\n",
    "    death1 = 1 if row['Death1'] == 'YES' else 0\n",
    "    death2 = 1 if row['Death2'] == 'YES' else 0\n",
    "    death3 = 1 if row['Death3'] == 'YES' else 0 \n",
    "    death4 = 1 if row['Death4'] == 'YES' else 0\n",
    "    death5 = 1 if row['Death5'] == 'YES' else 0 \n",
    "    \n",
    "    deaths= death1 +death2 + death3 + death4 + death5\n",
    "    return deaths\n",
    "\n",
    "# pd.options.mode.chained_assignment = None  # default='warn'\n",
    "# true_avengers['Deaths'] = true_avengers.apply(lambda row: count_death(row), axis=1)\n",
    "true_avengers.loc[:,'Deaths'] = true_avengers.apply(count_death, axis=1)\n",
    "true_avengers.loc[:,'Deaths'].hist()\n",
    "\n"
   ]
  },
  {
   "cell_type": "code",
   "execution_count": 88,
   "metadata": {
    "collapsed": false
   },
   "outputs": [
    {
     "data": {
      "text/plain": [
       "159"
      ]
     },
     "execution_count": 88,
     "metadata": {},
     "output_type": "execute_result"
    }
   ],
   "source": [
    "joined_accuracy_count = (2015- true_avengers['Year'] == true_avengers['Years since joining'])\n",
    "\n",
    "joined_accuracy_count = [1 for item in joined_accuracy_count if item ]\n",
    "joined_accuracy_count = sum(joined_accuracy_count)\n",
    "joined_accuracy_count"
   ]
  },
  {
   "cell_type": "code",
   "execution_count": null,
   "metadata": {
    "collapsed": true
   },
   "outputs": [],
   "source": []
  }
 ],
 "metadata": {
  "kernelspec": {
   "display_name": "Python 3",
   "language": "python",
   "name": "python3"
  },
  "language_info": {
   "codemirror_mode": {
    "name": "ipython",
    "version": 3
   },
   "file_extension": ".py",
   "mimetype": "text/x-python",
   "name": "python",
   "nbconvert_exporter": "python",
   "pygments_lexer": "ipython3",
   "version": "3.5.1"
  }
 },
 "nbformat": 4,
 "nbformat_minor": 0
}
