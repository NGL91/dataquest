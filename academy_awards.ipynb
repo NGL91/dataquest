{
 "cells": [
  {
   "cell_type": "code",
   "execution_count": 2,
   "metadata": {
    "collapsed": false
   },
   "outputs": [
    {
     "name": "stdout",
     "output_type": "stream",
     "text": [
      "/home/abc/workspace/machinelearning\n"
     ]
    }
   ],
   "source": [
    "import os\n",
    "print (os.getcwd())\n",
    "os.chdir('/home/abc/workspace/machinelearning/dataquest')"
   ]
  },
  {
   "cell_type": "code",
   "execution_count": 16,
   "metadata": {
    "collapsed": false
   },
   "outputs": [
    {
     "name": "stdout",
     "output_type": "stream",
     "text": [
      "          Year               Category          Nominee  \\\n",
      "0  2010 (83rd)  Actor -- Leading Role    Javier Bardem   \n",
      "1  2010 (83rd)  Actor -- Leading Role     Jeff Bridges   \n",
      "2  2010 (83rd)  Actor -- Leading Role  Jesse Eisenberg   \n",
      "3  2010 (83rd)  Actor -- Leading Role      Colin Firth   \n",
      "\n",
      "                          Additional Info Won? Unnamed: 5 Unnamed: 6  \\\n",
      "0                      Biutiful {'Uxbal'}   NO        NaN        NaN   \n",
      "1           True Grit {'Rooster Cogburn'}   NO        NaN        NaN   \n",
      "2  The Social Network {'Mark Zuckerberg'}   NO        NaN        NaN   \n",
      "3    The King's Speech {'King George VI'}  YES        NaN        NaN   \n",
      "\n",
      "  Unnamed: 7 Unnamed: 8 Unnamed: 9 Unnamed: 10  \n",
      "0        NaN        NaN        NaN         NaN  \n",
      "1        NaN        NaN        NaN         NaN  \n",
      "2        NaN        NaN        NaN         NaN  \n",
      "3        NaN        NaN        NaN         NaN  \n"
     ]
    }
   ],
   "source": [
    "import pandas as pd\n",
    "data = pd.read_csv('academy_awards.csv', encoding='ISO-8859-1')\n",
    "print (data.head(4))"
   ]
  },
  {
   "cell_type": "code",
   "execution_count": 18,
   "metadata": {
    "collapsed": false
   },
   "outputs": [
    {
     "name": "stdout",
     "output_type": "stream",
     "text": [
      "   Year               Category          Nominee  \\\n",
      "0  2010  Actor -- Leading Role    Javier Bardem   \n",
      "1  2010  Actor -- Leading Role     Jeff Bridges   \n",
      "2  2010  Actor -- Leading Role  Jesse Eisenberg   \n",
      "3  2010  Actor -- Leading Role      Colin Firth   \n",
      "4  2010  Actor -- Leading Role     James Franco   \n",
      "\n",
      "                          Additional Info Won? Unnamed: 5 Unnamed: 6  \\\n",
      "0                      Biutiful {'Uxbal'}   NO        NaN        NaN   \n",
      "1           True Grit {'Rooster Cogburn'}   NO        NaN        NaN   \n",
      "2  The Social Network {'Mark Zuckerberg'}   NO        NaN        NaN   \n",
      "3    The King's Speech {'King George VI'}  YES        NaN        NaN   \n",
      "4              127 Hours {'Aron Ralston'}   NO        NaN        NaN   \n",
      "\n",
      "  Unnamed: 7 Unnamed: 8 Unnamed: 9 Unnamed: 10  \n",
      "0        NaN        NaN        NaN         NaN  \n",
      "1        NaN        NaN        NaN         NaN  \n",
      "2        NaN        NaN        NaN         NaN  \n",
      "3        NaN        NaN        NaN         NaN  \n",
      "4        NaN        NaN        NaN         NaN  \n"
     ]
    }
   ],
   "source": [
    "#print (data.head(4)['Year'])\n",
    "data['Year'] = data['Year'].str[0:4]\n",
    "data['Year'] = data['Year'].astype('int')\n",
    "later_than_2000 = data[data['Year']>2000]\n",
    "award_categories = ['Actor -- Leading Role',\n",
    "                    'Actor -- Supporting Role',\n",
    "                    'Actress -- Leading Role',\n",
    "                    'Actress -- Supporting Role']\n",
    "\n",
    "nominations = later_than_2000[later_than_2000['Category'].isin(award_categories)]\n",
    "print (data.head(5))"
   ]
  },
  {
   "cell_type": "code",
   "execution_count": 19,
   "metadata": {
    "collapsed": false
   },
   "outputs": [
    {
     "name": "stdout",
     "output_type": "stream",
     "text": [
      "int64\n"
     ]
    }
   ],
   "source": [
    "print (data['Year'].dtype)"
   ]
  },
  {
   "cell_type": "code",
   "execution_count": 23,
   "metadata": {
    "collapsed": false
   },
   "outputs": [
    {
     "name": "stdout",
     "output_type": "stream",
     "text": [
      "   Year               Category          Nominee  \\\n",
      "0  2010  Actor -- Leading Role    Javier Bardem   \n",
      "1  2010  Actor -- Leading Role     Jeff Bridges   \n",
      "2  2010  Actor -- Leading Role  Jesse Eisenberg   \n",
      "3  2010  Actor -- Leading Role      Colin Firth   \n",
      "\n",
      "                          Additional Info Won? Unnamed: 5 Unnamed: 6  \\\n",
      "0                      Biutiful {'Uxbal'}   NO        NaN        NaN   \n",
      "1           True Grit {'Rooster Cogburn'}   NO        NaN        NaN   \n",
      "2  The Social Network {'Mark Zuckerberg'}   NO        NaN        NaN   \n",
      "3    The King's Speech {'King George VI'}  YES        NaN        NaN   \n",
      "\n",
      "  Unnamed: 7 Unnamed: 8 Unnamed: 9 Unnamed: 10  \n",
      "0        NaN        NaN        NaN         NaN  \n",
      "1        NaN        NaN        NaN         NaN  \n",
      "2        NaN        NaN        NaN         NaN  \n",
      "3        NaN        NaN        NaN         NaN  \n"
     ]
    }
   ],
   "source": [
    "print (nominations.head(4))"
   ]
  },
  {
   "cell_type": "markdown",
   "metadata": {},
   "source": []
  },
  {
   "cell_type": "code",
   "execution_count": 28,
   "metadata": {
    "collapsed": false
   },
   "outputs": [
    {
     "name": "stderr",
     "output_type": "stream",
     "text": [
      "/home/abc/anaconda3/lib/python3.5/site-packages/ipykernel/__main__.py:1: SettingWithCopyWarning: \n",
      "A value is trying to be set on a copy of a slice from a DataFrame.\n",
      "Try using .loc[row_indexer,col_indexer] = value instead\n",
      "\n",
      "See the caveats in the documentation: http://pandas.pydata.org/pandas-docs/stable/indexing.html#indexing-view-versus-copy\n",
      "  if __name__ == '__main__':\n"
     ]
    }
   ],
   "source": [
    "nominations['Won?']=nominations['Won?'].map({\"NO\": 0,'YES':1})\n"
   ]
  },
  {
   "cell_type": "code",
   "execution_count": 29,
   "metadata": {
    "collapsed": false
   },
   "outputs": [
    {
     "name": "stdout",
     "output_type": "stream",
     "text": [
      "0    0\n",
      "1    0\n",
      "2    0\n",
      "3    1\n",
      "4    0\n",
      "5    1\n",
      "6    0\n",
      "7    0\n",
      "8    0\n",
      "9    0\n",
      "Name: Won?, dtype: int64\n"
     ]
    }
   ],
   "source": [
    "print (nominations.head(10)['Won?'])"
   ]
  },
  {
   "cell_type": "code",
   "execution_count": 31,
   "metadata": {
    "collapsed": false
   },
   "outputs": [
    {
     "name": "stderr",
     "output_type": "stream",
     "text": [
      "/home/abc/anaconda3/lib/python3.5/site-packages/ipykernel/__main__.py:1: SettingWithCopyWarning: \n",
      "A value is trying to be set on a copy of a slice from a DataFrame.\n",
      "Try using .loc[row_indexer,col_indexer] = value instead\n",
      "\n",
      "See the caveats in the documentation: http://pandas.pydata.org/pandas-docs/stable/indexing.html#indexing-view-versus-copy\n",
      "  if __name__ == '__main__':\n"
     ]
    }
   ],
   "source": [
    "nominations['Won']=nominations['Won?'].loc[:]"
   ]
  },
  {
   "cell_type": "code",
   "execution_count": 35,
   "metadata": {
    "collapsed": false
   },
   "outputs": [],
   "source": [
    "final_nominations=nominations.drop(['Won?','Unnamed: 5','Unnamed: 6','Unnamed: 7',\n",
    "                                                       'Unnamed: 8','Unnamed: 9','Unnamed: 10'],axis=1)"
   ]
  },
  {
   "cell_type": "code",
   "execution_count": 36,
   "metadata": {
    "collapsed": false
   },
   "outputs": [
    {
     "name": "stdout",
     "output_type": "stream",
     "text": [
      "   Year               Category          Nominee  \\\n",
      "0  2010  Actor -- Leading Role    Javier Bardem   \n",
      "1  2010  Actor -- Leading Role     Jeff Bridges   \n",
      "2  2010  Actor -- Leading Role  Jesse Eisenberg   \n",
      "3  2010  Actor -- Leading Role      Colin Firth   \n",
      "\n",
      "                          Additional Info  Won  \n",
      "0                      Biutiful {'Uxbal'}    0  \n",
      "1           True Grit {'Rooster Cogburn'}    0  \n",
      "2  The Social Network {'Mark Zuckerberg'}    0  \n",
      "3    The King's Speech {'King George VI'}    1  \n"
     ]
    }
   ],
   "source": [
    "print (final_nominations.head(4))"
   ]
  },
  {
   "cell_type": "code",
   "execution_count": 41,
   "metadata": {
    "collapsed": false
   },
   "outputs": [
    {
     "name": "stdout",
     "output_type": "stream",
     "text": [
      "0                        Biutiful {'Uxbal\n",
      "1             True Grit {'Rooster Cogburn\n",
      "2    The Social Network {'Mark Zuckerberg\n",
      "3      The King's Speech {'King George VI\n",
      "Name: Additional Info, dtype: object\n"
     ]
    }
   ],
   "source": [
    "additional_info_one = final_nominations['Additional Info'].str.rstrip(\"'}\")\n",
    "print(additional_info_one.head(4))"
   ]
  },
  {
   "cell_type": "code",
   "execution_count": 43,
   "metadata": {
    "collapsed": false
   },
   "outputs": [],
   "source": [
    "additional_info_two = additional_info_one.str.split(\"{'\")"
   ]
  },
  {
   "cell_type": "code",
   "execution_count": 44,
   "metadata": {
    "collapsed": false
   },
   "outputs": [
    {
     "name": "stdout",
     "output_type": "stream",
     "text": [
      "0                        [Biutiful , Uxbal]\n",
      "1             [True Grit , Rooster Cogburn]\n",
      "2    [The Social Network , Mark Zuckerberg]\n",
      "3      [The King's Speech , King George VI]\n",
      "Name: Additional Info, dtype: object\n"
     ]
    }
   ],
   "source": [
    "print (additional_info_two.head(4))"
   ]
  },
  {
   "cell_type": "code",
   "execution_count": 50,
   "metadata": {
    "collapsed": true
   },
   "outputs": [],
   "source": [
    "movie_names = additional_info_two.str[0]\n",
    "characters = additional_info_two.str[1]"
   ]
  },
  {
   "cell_type": "code",
   "execution_count": 51,
   "metadata": {
    "collapsed": true
   },
   "outputs": [],
   "source": [
    "final_nominations['Movie']=movie_names"
   ]
  },
  {
   "cell_type": "code",
   "execution_count": 52,
   "metadata": {
    "collapsed": false
   },
   "outputs": [],
   "source": [
    "final_nominations['Character'] = characters"
   ]
  },
  {
   "cell_type": "code",
   "execution_count": 54,
   "metadata": {
    "collapsed": false
   },
   "outputs": [
    {
     "name": "stdout",
     "output_type": "stream",
     "text": [
      "                 Movie        Character  \\\n",
      "0            Biutiful             Uxbal   \n",
      "1           True Grit   Rooster Cogburn   \n",
      "2  The Social Network   Mark Zuckerberg   \n",
      "3   The King's Speech    King George VI   \n",
      "4           127 Hours      Aron Ralston   \n",
      "\n",
      "                          Additional Info  \n",
      "0                      Biutiful {'Uxbal'}  \n",
      "1           True Grit {'Rooster Cogburn'}  \n",
      "2  The Social Network {'Mark Zuckerberg'}  \n",
      "3    The King's Speech {'King George VI'}  \n",
      "4              127 Hours {'Aron Ralston'}  \n"
     ]
    }
   ],
   "source": [
    "print (final_nominations.head()[['Movie','Character','Additional Info']])"
   ]
  },
  {
   "cell_type": "code",
   "execution_count": 55,
   "metadata": {
    "collapsed": false
   },
   "outputs": [
    {
     "name": "stdout",
     "output_type": "stream",
     "text": [
      "   Year               Category          Nominee  Won                Movie  \\\n",
      "0  2010  Actor -- Leading Role    Javier Bardem    0            Biutiful    \n",
      "1  2010  Actor -- Leading Role     Jeff Bridges    0           True Grit    \n",
      "2  2010  Actor -- Leading Role  Jesse Eisenberg    0  The Social Network    \n",
      "3  2010  Actor -- Leading Role      Colin Firth    1   The King's Speech    \n",
      "4  2010  Actor -- Leading Role     James Franco    0           127 Hours    \n",
      "\n",
      "         Character  \n",
      "0            Uxbal  \n",
      "1  Rooster Cogburn  \n",
      "2  Mark Zuckerberg  \n",
      "3   King George VI  \n",
      "4     Aron Ralston  \n"
     ]
    }
   ],
   "source": [
    "final_nominations.drop(['Additional Info'], axis=1,inplace=True)\n",
    "print (final_nominations.head())"
   ]
  },
  {
   "cell_type": "code",
   "execution_count": 61,
   "metadata": {
    "collapsed": false
   },
   "outputs": [],
   "source": [
    "import sqlite3\n",
    "conn=sqlite3.connect('nominations.db')\n",
    "final_nominations.to_sql('nominations', conn, index=False, if_exists='replace')"
   ]
  },
  {
   "cell_type": "code",
   "execution_count": 62,
   "metadata": {
    "collapsed": false
   },
   "outputs": [
    {
     "name": "stdout",
     "output_type": "stream",
     "text": [
      "[(2010, 'Actor -- Leading Role', 'Javier Bardem', 0, 'Biutiful ', 'Uxbal'), (2010, 'Actor -- Leading Role', 'Jeff Bridges', 0, 'True Grit ', 'Rooster Cogburn'), (2010, 'Actor -- Leading Role', 'Jesse Eisenberg', 0, 'The Social Network ', 'Mark Zuckerberg'), (2010, 'Actor -- Leading Role', 'Colin Firth', 1, \"The King's Speech \", 'King George VI'), (2010, 'Actor -- Leading Role', 'James Franco', 0, '127 Hours ', 'Aron Ralston'), (2010, 'Actor -- Supporting Role', 'Christian Bale', 1, 'The Fighter ', 'Dicky Eklund'), (2010, 'Actor -- Supporting Role', 'John Hawkes', 0, \"Winter's Bone \", 'Teardrop'), (2010, 'Actor -- Supporting Role', 'Jeremy Renner', 0, 'The Town ', 'James Coughlin'), (2010, 'Actor -- Supporting Role', 'Mark Ruffalo', 0, 'The Kids Are All Right ', 'Paul'), (2010, 'Actor -- Supporting Role', 'Geoffrey Rush', 0, \"The King's Speech \", 'Lionel Logue')]\n"
     ]
    }
   ],
   "source": [
    "print (conn.execute('select * from nominations limit 10').fetchall())"
   ]
  },
  {
   "cell_type": "code",
   "execution_count": 63,
   "metadata": {
    "collapsed": false
   },
   "outputs": [
    {
     "name": "stdout",
     "output_type": "stream",
     "text": [
      "[(0, 'Year', 'INTEGER', 0, None, 0), (1, 'Category', 'TEXT', 0, None, 0), (2, 'Nominee', 'TEXT', 0, None, 0), (3, 'Won', 'INTEGER', 0, None, 0), (4, 'Movie', 'TEXT', 0, None, 0), (5, 'Character', 'TEXT', 0, None, 0)]\n",
      "-------------\n",
      "[(2010, 'Actor -- Leading Role', 'Javier Bardem', 0, 'Biutiful ', 'Uxbal'), (2010, 'Actor -- Leading Role', 'Jeff Bridges', 0, 'True Grit ', 'Rooster Cogburn'), (2010, 'Actor -- Leading Role', 'Jesse Eisenberg', 0, 'The Social Network ', 'Mark Zuckerberg'), (2010, 'Actor -- Leading Role', 'Colin Firth', 1, \"The King's Speech \", 'King George VI'), (2010, 'Actor -- Leading Role', 'James Franco', 0, '127 Hours ', 'Aron Ralston'), (2010, 'Actor -- Supporting Role', 'Christian Bale', 1, 'The Fighter ', 'Dicky Eklund'), (2010, 'Actor -- Supporting Role', 'John Hawkes', 0, \"Winter's Bone \", 'Teardrop'), (2010, 'Actor -- Supporting Role', 'Jeremy Renner', 0, 'The Town ', 'James Coughlin'), (2010, 'Actor -- Supporting Role', 'Mark Ruffalo', 0, 'The Kids Are All Right ', 'Paul'), (2010, 'Actor -- Supporting Role', 'Geoffrey Rush', 0, \"The King's Speech \", 'Lionel Logue')]\n"
     ]
    }
   ],
   "source": [
    "print (conn.execute('pragma table_info(nominations)').fetchall())\n",
    "print ('-------------')\n",
    "print (conn.execute('select * from nominations limit 10').fetchall())\n",
    "conn.close()"
   ]
  },
  {
   "cell_type": "raw",
   "metadata": {},
   "source": []
  },
  {
   "cell_type": "code",
   "execution_count": 65,
   "metadata": {
    "collapsed": false
   },
   "outputs": [
    {
     "name": "stdout",
     "output_type": "stream",
     "text": [
      "   Year                  Category          Nominee  \\\n",
      "0  2010     Actor -- Leading Role    Javier Bardem   \n",
      "1  2010     Actor -- Leading Role     Jeff Bridges   \n",
      "2  2010     Actor -- Leading Role  Jesse Eisenberg   \n",
      "3  2010     Actor -- Leading Role      Colin Firth   \n",
      "4  2010     Actor -- Leading Role     James Franco   \n",
      "5  2010  Actor -- Supporting Role   Christian Bale   \n",
      "6  2010  Actor -- Supporting Role      John Hawkes   \n",
      "7  2010  Actor -- Supporting Role    Jeremy Renner   \n",
      "8  2010  Actor -- Supporting Role     Mark Ruffalo   \n",
      "9  2010  Actor -- Supporting Role    Geoffrey Rush   \n",
      "\n",
      "                          Additional Info  Won? Unnamed: 5 Unnamed: 6  \\\n",
      "0                      Biutiful {'Uxbal'}     0        NaN        NaN   \n",
      "1           True Grit {'Rooster Cogburn'}     0        NaN        NaN   \n",
      "2  The Social Network {'Mark Zuckerberg'}     0        NaN        NaN   \n",
      "3    The King's Speech {'King George VI'}     1        NaN        NaN   \n",
      "4              127 Hours {'Aron Ralston'}     0        NaN        NaN   \n",
      "5            The Fighter {'Dicky Eklund'}     1        NaN        NaN   \n",
      "6              Winter's Bone {'Teardrop'}     0        NaN        NaN   \n",
      "7             The Town {'James Coughlin'}     0        NaN        NaN   \n",
      "8         The Kids Are All Right {'Paul'}     0        NaN        NaN   \n",
      "9      The King's Speech {'Lionel Logue'}     0        NaN        NaN   \n",
      "\n",
      "  Unnamed: 7 Unnamed: 8 Unnamed: 9 Unnamed: 10  Won  \n",
      "0        NaN        NaN        NaN         NaN    0  \n",
      "1        NaN        NaN        NaN         NaN    0  \n",
      "2        NaN        NaN        NaN         NaN    0  \n",
      "3        NaN        NaN        NaN         NaN    1  \n",
      "4        NaN        NaN        NaN         NaN    0  \n",
      "5        NaN        NaN        NaN         NaN    1  \n",
      "6        NaN        NaN        NaN         NaN    0  \n",
      "7        NaN        NaN        NaN         NaN    0  \n",
      "8        NaN        NaN        NaN         NaN    0  \n",
      "9        NaN        NaN        NaN         NaN    0  \n"
     ]
    }
   ],
   "source": [
    "print (nominations.head(10))"
   ]
  },
  {
   "cell_type": "code",
   "execution_count": null,
   "metadata": {
    "collapsed": true
   },
   "outputs": [],
   "source": []
  }
 ],
 "metadata": {
  "kernelspec": {
   "display_name": "Python 3",
   "language": "python",
   "name": "python3"
  },
  "language_info": {
   "codemirror_mode": {
    "name": "ipython",
    "version": 3
   },
   "file_extension": ".py",
   "mimetype": "text/x-python",
   "name": "python",
   "nbconvert_exporter": "python",
   "pygments_lexer": "ipython3",
   "version": "3.5.2"
  }
 },
 "nbformat": 4,
 "nbformat_minor": 0
}
